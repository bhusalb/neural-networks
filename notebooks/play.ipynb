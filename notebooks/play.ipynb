{
 "cells": [
  {
   "cell_type": "code",
   "execution_count": 1,
   "metadata": {
    "collapsed": true,
    "pycharm": {
     "name": "#%%\n"
    }
   },
   "outputs": [],
   "source": [
    "import pandas as pd"
   ]
  },
  {
   "cell_type": "code",
   "execution_count": 2,
   "outputs": [],
   "source": [
    "df = pd.read_csv('/Users/bishnubhusal/Desktop/projects/personal/neural-networks/data/marks_data.csv')"
   ],
   "metadata": {
    "collapsed": false,
    "pycharm": {
     "name": "#%%\n"
    }
   }
  },
  {
   "cell_type": "code",
   "execution_count": 3,
   "outputs": [
    {
     "data": {
      "text/plain": "         reg_no                  name   gpa  school_type  sex  school_id\n0    7467074013           NISHA THARU  2.65            2    2      67074\n1    7467074023           SUJAN THARU  3.60            2    1      67074\n2    7467074001             AMIR RANA  2.65            2    1      67074\n3    7467074010     KARAN THAPA MAGAR  3.70            2    1      67074\n4    7467074003          BANDANA RANA  2.85            2    2      67074\n..          ...                   ...   ...          ...  ...        ...\n995  7467098022  DHARMA BAHADUR THARU  1.60            1    1      67098\n996  7467098031     KIRAN KUMAR THARU  2.45            1    1      67098\n997  7467098045      NIRDIKA BHANDARI  2.20            1    2      67098\n998  7467098109           SHIBA THARU  1.60            1    2      67098\n999  7467098062         PARBATI THARU  1.40            1    2      67098\n\n[1000 rows x 6 columns]",
      "text/html": "<div>\n<style scoped>\n    .dataframe tbody tr th:only-of-type {\n        vertical-align: middle;\n    }\n\n    .dataframe tbody tr th {\n        vertical-align: top;\n    }\n\n    .dataframe thead th {\n        text-align: right;\n    }\n</style>\n<table border=\"1\" class=\"dataframe\">\n  <thead>\n    <tr style=\"text-align: right;\">\n      <th></th>\n      <th>reg_no</th>\n      <th>name</th>\n      <th>gpa</th>\n      <th>school_type</th>\n      <th>sex</th>\n      <th>school_id</th>\n    </tr>\n  </thead>\n  <tbody>\n    <tr>\n      <th>0</th>\n      <td>7467074013</td>\n      <td>NISHA THARU</td>\n      <td>2.65</td>\n      <td>2</td>\n      <td>2</td>\n      <td>67074</td>\n    </tr>\n    <tr>\n      <th>1</th>\n      <td>7467074023</td>\n      <td>SUJAN THARU</td>\n      <td>3.60</td>\n      <td>2</td>\n      <td>1</td>\n      <td>67074</td>\n    </tr>\n    <tr>\n      <th>2</th>\n      <td>7467074001</td>\n      <td>AMIR RANA</td>\n      <td>2.65</td>\n      <td>2</td>\n      <td>1</td>\n      <td>67074</td>\n    </tr>\n    <tr>\n      <th>3</th>\n      <td>7467074010</td>\n      <td>KARAN THAPA MAGAR</td>\n      <td>3.70</td>\n      <td>2</td>\n      <td>1</td>\n      <td>67074</td>\n    </tr>\n    <tr>\n      <th>4</th>\n      <td>7467074003</td>\n      <td>BANDANA RANA</td>\n      <td>2.85</td>\n      <td>2</td>\n      <td>2</td>\n      <td>67074</td>\n    </tr>\n    <tr>\n      <th>...</th>\n      <td>...</td>\n      <td>...</td>\n      <td>...</td>\n      <td>...</td>\n      <td>...</td>\n      <td>...</td>\n    </tr>\n    <tr>\n      <th>995</th>\n      <td>7467098022</td>\n      <td>DHARMA BAHADUR THARU</td>\n      <td>1.60</td>\n      <td>1</td>\n      <td>1</td>\n      <td>67098</td>\n    </tr>\n    <tr>\n      <th>996</th>\n      <td>7467098031</td>\n      <td>KIRAN KUMAR THARU</td>\n      <td>2.45</td>\n      <td>1</td>\n      <td>1</td>\n      <td>67098</td>\n    </tr>\n    <tr>\n      <th>997</th>\n      <td>7467098045</td>\n      <td>NIRDIKA BHANDARI</td>\n      <td>2.20</td>\n      <td>1</td>\n      <td>2</td>\n      <td>67098</td>\n    </tr>\n    <tr>\n      <th>998</th>\n      <td>7467098109</td>\n      <td>SHIBA THARU</td>\n      <td>1.60</td>\n      <td>1</td>\n      <td>2</td>\n      <td>67098</td>\n    </tr>\n    <tr>\n      <th>999</th>\n      <td>7467098062</td>\n      <td>PARBATI THARU</td>\n      <td>1.40</td>\n      <td>1</td>\n      <td>2</td>\n      <td>67098</td>\n    </tr>\n  </tbody>\n</table>\n<p>1000 rows × 6 columns</p>\n</div>"
     },
     "execution_count": 3,
     "metadata": {},
     "output_type": "execute_result"
    }
   ],
   "source": [
    "df"
   ],
   "metadata": {
    "collapsed": false,
    "pycharm": {
     "name": "#%%\n"
    }
   }
  },
  {
   "cell_type": "code",
   "execution_count": 4,
   "outputs": [
    {
     "data": {
      "text/plain": "       reg_no               name   gpa  school_type  sex  school_id\n0  7467074013        NISHA THARU  2.65            2    2      67074\n1  7467074023        SUJAN THARU  3.60            2    1      67074\n2  7467074001          AMIR RANA  2.65            2    1      67074\n3  7467074010  KARAN THAPA MAGAR  3.70            2    1      67074\n4  7467074003       BANDANA RANA  2.85            2    2      67074\n5  7467074005       BIPANA SUNAR  3.45            2    2      67074\n6  7467074012         NIRAJ RANA  2.95            2    1      67074\n7  7467075010        BIKAS THARU  1.60            1    1      67075\n8  7467075073     SANTOSHI THARU  1.85            1    2      67075\n9  7467075060      PRAKASH THARU  1.80            1    1      67075",
      "text/html": "<div>\n<style scoped>\n    .dataframe tbody tr th:only-of-type {\n        vertical-align: middle;\n    }\n\n    .dataframe tbody tr th {\n        vertical-align: top;\n    }\n\n    .dataframe thead th {\n        text-align: right;\n    }\n</style>\n<table border=\"1\" class=\"dataframe\">\n  <thead>\n    <tr style=\"text-align: right;\">\n      <th></th>\n      <th>reg_no</th>\n      <th>name</th>\n      <th>gpa</th>\n      <th>school_type</th>\n      <th>sex</th>\n      <th>school_id</th>\n    </tr>\n  </thead>\n  <tbody>\n    <tr>\n      <th>0</th>\n      <td>7467074013</td>\n      <td>NISHA THARU</td>\n      <td>2.65</td>\n      <td>2</td>\n      <td>2</td>\n      <td>67074</td>\n    </tr>\n    <tr>\n      <th>1</th>\n      <td>7467074023</td>\n      <td>SUJAN THARU</td>\n      <td>3.60</td>\n      <td>2</td>\n      <td>1</td>\n      <td>67074</td>\n    </tr>\n    <tr>\n      <th>2</th>\n      <td>7467074001</td>\n      <td>AMIR RANA</td>\n      <td>2.65</td>\n      <td>2</td>\n      <td>1</td>\n      <td>67074</td>\n    </tr>\n    <tr>\n      <th>3</th>\n      <td>7467074010</td>\n      <td>KARAN THAPA MAGAR</td>\n      <td>3.70</td>\n      <td>2</td>\n      <td>1</td>\n      <td>67074</td>\n    </tr>\n    <tr>\n      <th>4</th>\n      <td>7467074003</td>\n      <td>BANDANA RANA</td>\n      <td>2.85</td>\n      <td>2</td>\n      <td>2</td>\n      <td>67074</td>\n    </tr>\n    <tr>\n      <th>5</th>\n      <td>7467074005</td>\n      <td>BIPANA SUNAR</td>\n      <td>3.45</td>\n      <td>2</td>\n      <td>2</td>\n      <td>67074</td>\n    </tr>\n    <tr>\n      <th>6</th>\n      <td>7467074012</td>\n      <td>NIRAJ RANA</td>\n      <td>2.95</td>\n      <td>2</td>\n      <td>1</td>\n      <td>67074</td>\n    </tr>\n    <tr>\n      <th>7</th>\n      <td>7467075010</td>\n      <td>BIKAS THARU</td>\n      <td>1.60</td>\n      <td>1</td>\n      <td>1</td>\n      <td>67075</td>\n    </tr>\n    <tr>\n      <th>8</th>\n      <td>7467075073</td>\n      <td>SANTOSHI THARU</td>\n      <td>1.85</td>\n      <td>1</td>\n      <td>2</td>\n      <td>67075</td>\n    </tr>\n    <tr>\n      <th>9</th>\n      <td>7467075060</td>\n      <td>PRAKASH THARU</td>\n      <td>1.80</td>\n      <td>1</td>\n      <td>1</td>\n      <td>67075</td>\n    </tr>\n  </tbody>\n</table>\n</div>"
     },
     "execution_count": 4,
     "metadata": {},
     "output_type": "execute_result"
    }
   ],
   "source": [
    "df.head(10)"
   ],
   "metadata": {
    "collapsed": false,
    "pycharm": {
     "name": "#%%\n"
    }
   }
  },
  {
   "cell_type": "code",
   "execution_count": 5,
   "outputs": [
    {
     "name": "stdout",
     "output_type": "stream",
     "text": [
      "<class 'pandas.core.frame.DataFrame'>\n",
      "RangeIndex: 1000 entries, 0 to 999\n",
      "Data columns (total 6 columns):\n",
      " #   Column       Non-Null Count  Dtype  \n",
      "---  ------       --------------  -----  \n",
      " 0   reg_no       1000 non-null   int64  \n",
      " 1   name         1000 non-null   object \n",
      " 2   gpa          1000 non-null   float64\n",
      " 3   school_type  1000 non-null   int64  \n",
      " 4   sex          1000 non-null   int64  \n",
      " 5   school_id    1000 non-null   int64  \n",
      "dtypes: float64(1), int64(4), object(1)\n",
      "memory usage: 47.0+ KB\n"
     ]
    }
   ],
   "source": [
    "df.info()"
   ],
   "metadata": {
    "collapsed": false,
    "pycharm": {
     "name": "#%%\n"
    }
   }
  },
  {
   "cell_type": "code",
   "execution_count": 6,
   "outputs": [
    {
     "data": {
      "text/plain": "             reg_no          gpa  school_type          sex     school_id\ncount  1.000000e+03  1000.000000   1000.00000  1000.000000   1000.000000\nmean   7.458286e+09     2.272200      1.40800     1.491000  67086.169000\nstd    4.800847e+07     0.637235      0.64804     0.500169      7.208495\nmin    6.767080e+09     1.000000      1.00000     1.000000  67074.000000\n25%    7.467078e+09     1.800000      1.00000     1.000000  67079.000000\n50%    7.467085e+09     2.150000      1.00000     1.000000  67087.000000\n75%    7.467092e+09     2.700000      2.00000     2.000000  67093.000000\nmax    7.467098e+09     3.900000      3.00000     2.000000  67104.000000",
      "text/html": "<div>\n<style scoped>\n    .dataframe tbody tr th:only-of-type {\n        vertical-align: middle;\n    }\n\n    .dataframe tbody tr th {\n        vertical-align: top;\n    }\n\n    .dataframe thead th {\n        text-align: right;\n    }\n</style>\n<table border=\"1\" class=\"dataframe\">\n  <thead>\n    <tr style=\"text-align: right;\">\n      <th></th>\n      <th>reg_no</th>\n      <th>gpa</th>\n      <th>school_type</th>\n      <th>sex</th>\n      <th>school_id</th>\n    </tr>\n  </thead>\n  <tbody>\n    <tr>\n      <th>count</th>\n      <td>1.000000e+03</td>\n      <td>1000.000000</td>\n      <td>1000.00000</td>\n      <td>1000.000000</td>\n      <td>1000.000000</td>\n    </tr>\n    <tr>\n      <th>mean</th>\n      <td>7.458286e+09</td>\n      <td>2.272200</td>\n      <td>1.40800</td>\n      <td>1.491000</td>\n      <td>67086.169000</td>\n    </tr>\n    <tr>\n      <th>std</th>\n      <td>4.800847e+07</td>\n      <td>0.637235</td>\n      <td>0.64804</td>\n      <td>0.500169</td>\n      <td>7.208495</td>\n    </tr>\n    <tr>\n      <th>min</th>\n      <td>6.767080e+09</td>\n      <td>1.000000</td>\n      <td>1.00000</td>\n      <td>1.000000</td>\n      <td>67074.000000</td>\n    </tr>\n    <tr>\n      <th>25%</th>\n      <td>7.467078e+09</td>\n      <td>1.800000</td>\n      <td>1.00000</td>\n      <td>1.000000</td>\n      <td>67079.000000</td>\n    </tr>\n    <tr>\n      <th>50%</th>\n      <td>7.467085e+09</td>\n      <td>2.150000</td>\n      <td>1.00000</td>\n      <td>1.000000</td>\n      <td>67087.000000</td>\n    </tr>\n    <tr>\n      <th>75%</th>\n      <td>7.467092e+09</td>\n      <td>2.700000</td>\n      <td>2.00000</td>\n      <td>2.000000</td>\n      <td>67093.000000</td>\n    </tr>\n    <tr>\n      <th>max</th>\n      <td>7.467098e+09</td>\n      <td>3.900000</td>\n      <td>3.00000</td>\n      <td>2.000000</td>\n      <td>67104.000000</td>\n    </tr>\n  </tbody>\n</table>\n</div>"
     },
     "execution_count": 6,
     "metadata": {},
     "output_type": "execute_result"
    }
   ],
   "source": [
    "df.describe()"
   ],
   "metadata": {
    "collapsed": false,
    "pycharm": {
     "name": "#%%\n"
    }
   }
  },
  {
   "cell_type": "code",
   "execution_count": 7,
   "outputs": [
    {
     "data": {
      "text/plain": "0      2.65\n1      3.60\n2      2.65\n3      3.70\n4      2.85\n       ... \n995    1.60\n996    2.45\n997    2.20\n998    1.60\n999    1.40\nName: gpa, Length: 1000, dtype: float64"
     },
     "execution_count": 7,
     "metadata": {},
     "output_type": "execute_result"
    }
   ],
   "source": [
    "df['gpa']"
   ],
   "metadata": {
    "collapsed": false,
    "pycharm": {
     "name": "#%%\n"
    }
   }
  },
  {
   "cell_type": "code",
   "execution_count": 8,
   "outputs": [
    {
     "data": {
      "text/plain": "      gpa  sex\n0    2.65    2\n1    3.60    1\n2    2.65    1\n3    3.70    1\n4    2.85    2\n..    ...  ...\n995  1.60    1\n996  2.45    1\n997  2.20    2\n998  1.60    2\n999  1.40    2\n\n[1000 rows x 2 columns]",
      "text/html": "<div>\n<style scoped>\n    .dataframe tbody tr th:only-of-type {\n        vertical-align: middle;\n    }\n\n    .dataframe tbody tr th {\n        vertical-align: top;\n    }\n\n    .dataframe thead th {\n        text-align: right;\n    }\n</style>\n<table border=\"1\" class=\"dataframe\">\n  <thead>\n    <tr style=\"text-align: right;\">\n      <th></th>\n      <th>gpa</th>\n      <th>sex</th>\n    </tr>\n  </thead>\n  <tbody>\n    <tr>\n      <th>0</th>\n      <td>2.65</td>\n      <td>2</td>\n    </tr>\n    <tr>\n      <th>1</th>\n      <td>3.60</td>\n      <td>1</td>\n    </tr>\n    <tr>\n      <th>2</th>\n      <td>2.65</td>\n      <td>1</td>\n    </tr>\n    <tr>\n      <th>3</th>\n      <td>3.70</td>\n      <td>1</td>\n    </tr>\n    <tr>\n      <th>4</th>\n      <td>2.85</td>\n      <td>2</td>\n    </tr>\n    <tr>\n      <th>...</th>\n      <td>...</td>\n      <td>...</td>\n    </tr>\n    <tr>\n      <th>995</th>\n      <td>1.60</td>\n      <td>1</td>\n    </tr>\n    <tr>\n      <th>996</th>\n      <td>2.45</td>\n      <td>1</td>\n    </tr>\n    <tr>\n      <th>997</th>\n      <td>2.20</td>\n      <td>2</td>\n    </tr>\n    <tr>\n      <th>998</th>\n      <td>1.60</td>\n      <td>2</td>\n    </tr>\n    <tr>\n      <th>999</th>\n      <td>1.40</td>\n      <td>2</td>\n    </tr>\n  </tbody>\n</table>\n<p>1000 rows × 2 columns</p>\n</div>"
     },
     "execution_count": 8,
     "metadata": {},
     "output_type": "execute_result"
    }
   ],
   "source": [
    "df[['gpa', 'sex']]"
   ],
   "metadata": {
    "collapsed": false,
    "pycharm": {
     "name": "#%%\n"
    }
   }
  },
  {
   "cell_type": "code",
   "execution_count": 9,
   "outputs": [],
   "source": [
    "df['sex'] = df['sex'].apply(lambda gender: 'male' if gender == 1 else 'female')"
   ],
   "metadata": {
    "collapsed": false,
    "pycharm": {
     "name": "#%%\n"
    }
   }
  },
  {
   "cell_type": "code",
   "execution_count": 10,
   "outputs": [],
   "source": [
    "# I am a comment\n",
    "def old_kind_of_function_for_addition(a, b):\n",
    "    return a + b\n"
   ],
   "metadata": {
    "collapsed": false,
    "pycharm": {
     "name": "#%%\n"
    }
   }
  },
  {
   "cell_type": "code",
   "execution_count": 11,
   "outputs": [
    {
     "data": {
      "text/plain": "9"
     },
     "execution_count": 11,
     "metadata": {},
     "output_type": "execute_result"
    }
   ],
   "source": [
    "old_kind_of_function_for_addition(5, 4)"
   ],
   "metadata": {
    "collapsed": false,
    "pycharm": {
     "name": "#%%\n"
    }
   }
  },
  {
   "cell_type": "code",
   "execution_count": 12,
   "outputs": [],
   "source": [
    "new_function_for_addition = lambda a, b : a + b"
   ],
   "metadata": {
    "collapsed": false,
    "pycharm": {
     "name": "#%%\n"
    }
   }
  },
  {
   "cell_type": "code",
   "execution_count": 13,
   "outputs": [
    {
     "data": {
      "text/plain": "9"
     },
     "execution_count": 13,
     "metadata": {},
     "output_type": "execute_result"
    }
   ],
   "source": [
    "new_function_for_addition(5, 4)"
   ],
   "metadata": {
    "collapsed": false,
    "pycharm": {
     "name": "#%%\n"
    }
   }
  },
  {
   "cell_type": "code",
   "execution_count": 14,
   "outputs": [
    {
     "data": {
      "text/plain": "         reg_no                  name   gpa  school_type     sex  school_id\n0    7467074013           NISHA THARU  2.65            2  female      67074\n1    7467074023           SUJAN THARU  3.60            2    male      67074\n2    7467074001             AMIR RANA  2.65            2    male      67074\n3    7467074010     KARAN THAPA MAGAR  3.70            2    male      67074\n4    7467074003          BANDANA RANA  2.85            2  female      67074\n..          ...                   ...   ...          ...     ...        ...\n995  7467098022  DHARMA BAHADUR THARU  1.60            1    male      67098\n996  7467098031     KIRAN KUMAR THARU  2.45            1    male      67098\n997  7467098045      NIRDIKA BHANDARI  2.20            1  female      67098\n998  7467098109           SHIBA THARU  1.60            1  female      67098\n999  7467098062         PARBATI THARU  1.40            1  female      67098\n\n[1000 rows x 6 columns]",
      "text/html": "<div>\n<style scoped>\n    .dataframe tbody tr th:only-of-type {\n        vertical-align: middle;\n    }\n\n    .dataframe tbody tr th {\n        vertical-align: top;\n    }\n\n    .dataframe thead th {\n        text-align: right;\n    }\n</style>\n<table border=\"1\" class=\"dataframe\">\n  <thead>\n    <tr style=\"text-align: right;\">\n      <th></th>\n      <th>reg_no</th>\n      <th>name</th>\n      <th>gpa</th>\n      <th>school_type</th>\n      <th>sex</th>\n      <th>school_id</th>\n    </tr>\n  </thead>\n  <tbody>\n    <tr>\n      <th>0</th>\n      <td>7467074013</td>\n      <td>NISHA THARU</td>\n      <td>2.65</td>\n      <td>2</td>\n      <td>female</td>\n      <td>67074</td>\n    </tr>\n    <tr>\n      <th>1</th>\n      <td>7467074023</td>\n      <td>SUJAN THARU</td>\n      <td>3.60</td>\n      <td>2</td>\n      <td>male</td>\n      <td>67074</td>\n    </tr>\n    <tr>\n      <th>2</th>\n      <td>7467074001</td>\n      <td>AMIR RANA</td>\n      <td>2.65</td>\n      <td>2</td>\n      <td>male</td>\n      <td>67074</td>\n    </tr>\n    <tr>\n      <th>3</th>\n      <td>7467074010</td>\n      <td>KARAN THAPA MAGAR</td>\n      <td>3.70</td>\n      <td>2</td>\n      <td>male</td>\n      <td>67074</td>\n    </tr>\n    <tr>\n      <th>4</th>\n      <td>7467074003</td>\n      <td>BANDANA RANA</td>\n      <td>2.85</td>\n      <td>2</td>\n      <td>female</td>\n      <td>67074</td>\n    </tr>\n    <tr>\n      <th>...</th>\n      <td>...</td>\n      <td>...</td>\n      <td>...</td>\n      <td>...</td>\n      <td>...</td>\n      <td>...</td>\n    </tr>\n    <tr>\n      <th>995</th>\n      <td>7467098022</td>\n      <td>DHARMA BAHADUR THARU</td>\n      <td>1.60</td>\n      <td>1</td>\n      <td>male</td>\n      <td>67098</td>\n    </tr>\n    <tr>\n      <th>996</th>\n      <td>7467098031</td>\n      <td>KIRAN KUMAR THARU</td>\n      <td>2.45</td>\n      <td>1</td>\n      <td>male</td>\n      <td>67098</td>\n    </tr>\n    <tr>\n      <th>997</th>\n      <td>7467098045</td>\n      <td>NIRDIKA BHANDARI</td>\n      <td>2.20</td>\n      <td>1</td>\n      <td>female</td>\n      <td>67098</td>\n    </tr>\n    <tr>\n      <th>998</th>\n      <td>7467098109</td>\n      <td>SHIBA THARU</td>\n      <td>1.60</td>\n      <td>1</td>\n      <td>female</td>\n      <td>67098</td>\n    </tr>\n    <tr>\n      <th>999</th>\n      <td>7467098062</td>\n      <td>PARBATI THARU</td>\n      <td>1.40</td>\n      <td>1</td>\n      <td>female</td>\n      <td>67098</td>\n    </tr>\n  </tbody>\n</table>\n<p>1000 rows × 6 columns</p>\n</div>"
     },
     "execution_count": 14,
     "metadata": {},
     "output_type": "execute_result"
    }
   ],
   "source": [
    "df"
   ],
   "metadata": {
    "collapsed": false,
    "pycharm": {
     "name": "#%%\n"
    }
   }
  },
  {
   "cell_type": "code",
   "execution_count": 15,
   "outputs": [
    {
     "data": {
      "text/plain": "         reg_no                     name   gpa  school_type     sex  school_id\n100  7467076015              DIPA GURUNG  1.65            3  female      67076\n102  7467076030         PREM KUMAR THARU  1.50            3    male      67076\n104  7467076004            AMRITA GHARTI  1.80            3  female      67076\n106  7467076045      SHYAM BIHARI BHUJWA  1.80            3    male      67076\n108  7467076067           LILA CHAUDHARY  1.80            3  female      67076\n..          ...                      ...   ...          ...     ...        ...\n290  7467080025           SUFI BANO KHAN  2.10            1    male      67080\n292  7467081044             ASHIKA SUNAR  2.65            2  female      67081\n294  7467081028              SURAJ MALLA  2.60            2    male      67081\n296  7467081011     PARMISHA THAPA MAGAR  2.95            2  female      67081\n298  7467081007  DIL KUMARI SALAMI MAGAR  2.80            2  female      67081\n\n[100 rows x 6 columns]",
      "text/html": "<div>\n<style scoped>\n    .dataframe tbody tr th:only-of-type {\n        vertical-align: middle;\n    }\n\n    .dataframe tbody tr th {\n        vertical-align: top;\n    }\n\n    .dataframe thead th {\n        text-align: right;\n    }\n</style>\n<table border=\"1\" class=\"dataframe\">\n  <thead>\n    <tr style=\"text-align: right;\">\n      <th></th>\n      <th>reg_no</th>\n      <th>name</th>\n      <th>gpa</th>\n      <th>school_type</th>\n      <th>sex</th>\n      <th>school_id</th>\n    </tr>\n  </thead>\n  <tbody>\n    <tr>\n      <th>100</th>\n      <td>7467076015</td>\n      <td>DIPA GURUNG</td>\n      <td>1.65</td>\n      <td>3</td>\n      <td>female</td>\n      <td>67076</td>\n    </tr>\n    <tr>\n      <th>102</th>\n      <td>7467076030</td>\n      <td>PREM KUMAR THARU</td>\n      <td>1.50</td>\n      <td>3</td>\n      <td>male</td>\n      <td>67076</td>\n    </tr>\n    <tr>\n      <th>104</th>\n      <td>7467076004</td>\n      <td>AMRITA GHARTI</td>\n      <td>1.80</td>\n      <td>3</td>\n      <td>female</td>\n      <td>67076</td>\n    </tr>\n    <tr>\n      <th>106</th>\n      <td>7467076045</td>\n      <td>SHYAM BIHARI BHUJWA</td>\n      <td>1.80</td>\n      <td>3</td>\n      <td>male</td>\n      <td>67076</td>\n    </tr>\n    <tr>\n      <th>108</th>\n      <td>7467076067</td>\n      <td>LILA CHAUDHARY</td>\n      <td>1.80</td>\n      <td>3</td>\n      <td>female</td>\n      <td>67076</td>\n    </tr>\n    <tr>\n      <th>...</th>\n      <td>...</td>\n      <td>...</td>\n      <td>...</td>\n      <td>...</td>\n      <td>...</td>\n      <td>...</td>\n    </tr>\n    <tr>\n      <th>290</th>\n      <td>7467080025</td>\n      <td>SUFI BANO KHAN</td>\n      <td>2.10</td>\n      <td>1</td>\n      <td>male</td>\n      <td>67080</td>\n    </tr>\n    <tr>\n      <th>292</th>\n      <td>7467081044</td>\n      <td>ASHIKA SUNAR</td>\n      <td>2.65</td>\n      <td>2</td>\n      <td>female</td>\n      <td>67081</td>\n    </tr>\n    <tr>\n      <th>294</th>\n      <td>7467081028</td>\n      <td>SURAJ MALLA</td>\n      <td>2.60</td>\n      <td>2</td>\n      <td>male</td>\n      <td>67081</td>\n    </tr>\n    <tr>\n      <th>296</th>\n      <td>7467081011</td>\n      <td>PARMISHA THAPA MAGAR</td>\n      <td>2.95</td>\n      <td>2</td>\n      <td>female</td>\n      <td>67081</td>\n    </tr>\n    <tr>\n      <th>298</th>\n      <td>7467081007</td>\n      <td>DIL KUMARI SALAMI MAGAR</td>\n      <td>2.80</td>\n      <td>2</td>\n      <td>female</td>\n      <td>67081</td>\n    </tr>\n  </tbody>\n</table>\n<p>100 rows × 6 columns</p>\n</div>"
     },
     "execution_count": 15,
     "metadata": {},
     "output_type": "execute_result"
    }
   ],
   "source": [
    "\n",
    "df[100:300:2]"
   ],
   "metadata": {
    "collapsed": false,
    "pycharm": {
     "name": "#%%\n"
    }
   }
  },
  {
   "cell_type": "code",
   "execution_count": 16,
   "outputs": [],
   "source": [
    "# df = df[['gpa', 'sex']]"
   ],
   "metadata": {
    "collapsed": false,
    "pycharm": {
     "name": "#%%\n"
    }
   }
  },
  {
   "cell_type": "code",
   "execution_count": 17,
   "outputs": [
    {
     "data": {
      "text/plain": "         reg_no                  name   gpa  school_type     sex  school_id\n0    7467074013           NISHA THARU  2.65            2  female      67074\n1    7467074023           SUJAN THARU  3.60            2    male      67074\n2    7467074001             AMIR RANA  2.65            2    male      67074\n3    7467074010     KARAN THAPA MAGAR  3.70            2    male      67074\n4    7467074003          BANDANA RANA  2.85            2  female      67074\n..          ...                   ...   ...          ...     ...        ...\n995  7467098022  DHARMA BAHADUR THARU  1.60            1    male      67098\n996  7467098031     KIRAN KUMAR THARU  2.45            1    male      67098\n997  7467098045      NIRDIKA BHANDARI  2.20            1  female      67098\n998  7467098109           SHIBA THARU  1.60            1  female      67098\n999  7467098062         PARBATI THARU  1.40            1  female      67098\n\n[1000 rows x 6 columns]",
      "text/html": "<div>\n<style scoped>\n    .dataframe tbody tr th:only-of-type {\n        vertical-align: middle;\n    }\n\n    .dataframe tbody tr th {\n        vertical-align: top;\n    }\n\n    .dataframe thead th {\n        text-align: right;\n    }\n</style>\n<table border=\"1\" class=\"dataframe\">\n  <thead>\n    <tr style=\"text-align: right;\">\n      <th></th>\n      <th>reg_no</th>\n      <th>name</th>\n      <th>gpa</th>\n      <th>school_type</th>\n      <th>sex</th>\n      <th>school_id</th>\n    </tr>\n  </thead>\n  <tbody>\n    <tr>\n      <th>0</th>\n      <td>7467074013</td>\n      <td>NISHA THARU</td>\n      <td>2.65</td>\n      <td>2</td>\n      <td>female</td>\n      <td>67074</td>\n    </tr>\n    <tr>\n      <th>1</th>\n      <td>7467074023</td>\n      <td>SUJAN THARU</td>\n      <td>3.60</td>\n      <td>2</td>\n      <td>male</td>\n      <td>67074</td>\n    </tr>\n    <tr>\n      <th>2</th>\n      <td>7467074001</td>\n      <td>AMIR RANA</td>\n      <td>2.65</td>\n      <td>2</td>\n      <td>male</td>\n      <td>67074</td>\n    </tr>\n    <tr>\n      <th>3</th>\n      <td>7467074010</td>\n      <td>KARAN THAPA MAGAR</td>\n      <td>3.70</td>\n      <td>2</td>\n      <td>male</td>\n      <td>67074</td>\n    </tr>\n    <tr>\n      <th>4</th>\n      <td>7467074003</td>\n      <td>BANDANA RANA</td>\n      <td>2.85</td>\n      <td>2</td>\n      <td>female</td>\n      <td>67074</td>\n    </tr>\n    <tr>\n      <th>...</th>\n      <td>...</td>\n      <td>...</td>\n      <td>...</td>\n      <td>...</td>\n      <td>...</td>\n      <td>...</td>\n    </tr>\n    <tr>\n      <th>995</th>\n      <td>7467098022</td>\n      <td>DHARMA BAHADUR THARU</td>\n      <td>1.60</td>\n      <td>1</td>\n      <td>male</td>\n      <td>67098</td>\n    </tr>\n    <tr>\n      <th>996</th>\n      <td>7467098031</td>\n      <td>KIRAN KUMAR THARU</td>\n      <td>2.45</td>\n      <td>1</td>\n      <td>male</td>\n      <td>67098</td>\n    </tr>\n    <tr>\n      <th>997</th>\n      <td>7467098045</td>\n      <td>NIRDIKA BHANDARI</td>\n      <td>2.20</td>\n      <td>1</td>\n      <td>female</td>\n      <td>67098</td>\n    </tr>\n    <tr>\n      <th>998</th>\n      <td>7467098109</td>\n      <td>SHIBA THARU</td>\n      <td>1.60</td>\n      <td>1</td>\n      <td>female</td>\n      <td>67098</td>\n    </tr>\n    <tr>\n      <th>999</th>\n      <td>7467098062</td>\n      <td>PARBATI THARU</td>\n      <td>1.40</td>\n      <td>1</td>\n      <td>female</td>\n      <td>67098</td>\n    </tr>\n  </tbody>\n</table>\n<p>1000 rows × 6 columns</p>\n</div>"
     },
     "execution_count": 17,
     "metadata": {},
     "output_type": "execute_result"
    }
   ],
   "source": [
    "df"
   ],
   "metadata": {
    "collapsed": false,
    "pycharm": {
     "name": "#%%\n"
    }
   }
  },
  {
   "cell_type": "code",
   "execution_count": 18,
   "outputs": [],
   "source": [
    "\n",
    "sub_df = df[['sex', 'gpa']]"
   ],
   "metadata": {
    "collapsed": false,
    "pycharm": {
     "name": "#%%\n"
    }
   }
  },
  {
   "cell_type": "code",
   "execution_count": 19,
   "outputs": [],
   "source": [
    "from sklearn.model_selection import train_test_split"
   ],
   "metadata": {
    "collapsed": false,
    "pycharm": {
     "name": "#%%\n"
    }
   }
  },
  {
   "cell_type": "code",
   "execution_count": 20,
   "outputs": [],
   "source": [
    "X = sub_df['sex']"
   ],
   "metadata": {
    "collapsed": false,
    "pycharm": {
     "name": "#%%\n"
    }
   }
  },
  {
   "cell_type": "code",
   "execution_count": 21,
   "outputs": [],
   "source": [
    "Y = sub_df['gpa']"
   ],
   "metadata": {
    "collapsed": false,
    "pycharm": {
     "name": "#%%\n"
    }
   }
  },
  {
   "cell_type": "code",
   "execution_count": 21,
   "outputs": [],
   "source": [],
   "metadata": {
    "collapsed": false,
    "pycharm": {
     "name": "#%%\n"
    }
   }
  },
  {
   "cell_type": "code",
   "execution_count": 22,
   "outputs": [
    {
     "data": {
      "text/plain": "(1000,)"
     },
     "execution_count": 22,
     "metadata": {},
     "output_type": "execute_result"
    }
   ],
   "source": [
    "X.shape"
   ],
   "metadata": {
    "collapsed": false,
    "pycharm": {
     "name": "#%%\n"
    }
   }
  },
  {
   "cell_type": "code",
   "execution_count": 23,
   "outputs": [
    {
     "data": {
      "text/plain": "(1000,)"
     },
     "execution_count": 23,
     "metadata": {},
     "output_type": "execute_result"
    }
   ],
   "source": [
    "\n",
    "Y.shape"
   ],
   "metadata": {
    "collapsed": false,
    "pycharm": {
     "name": "#%%\n"
    }
   }
  },
  {
   "cell_type": "code",
   "execution_count": 24,
   "outputs": [],
   "source": [
    "x_train, x_test, y_train, y_test = train_test_split(X, Y, test_size=0.33, shuffle=True)"
   ],
   "metadata": {
    "collapsed": false,
    "pycharm": {
     "name": "#%%\n"
    }
   }
  },
  {
   "cell_type": "code",
   "execution_count": 25,
   "outputs": [
    {
     "data": {
      "text/plain": "(670,)"
     },
     "execution_count": 25,
     "metadata": {},
     "output_type": "execute_result"
    }
   ],
   "source": [
    "x_train.shape"
   ],
   "metadata": {
    "collapsed": false,
    "pycharm": {
     "name": "#%%\n"
    }
   }
  },
  {
   "cell_type": "code",
   "execution_count": 26,
   "outputs": [
    {
     "data": {
      "text/plain": "(330,)"
     },
     "execution_count": 26,
     "metadata": {},
     "output_type": "execute_result"
    }
   ],
   "source": [
    "x_test.shape\n"
   ],
   "metadata": {
    "collapsed": false,
    "pycharm": {
     "name": "#%%\n"
    }
   }
  },
  {
   "cell_type": "code",
   "execution_count": 36,
   "outputs": [
    {
     "data": {
      "text/plain": "         reg_no                  name   gpa  school_type     sex  school_id\n0    7467074013           NISHA THARU  2.65            2  female      67074\n1    7467074023           SUJAN THARU  3.60            2    male      67074\n2    7467074001             AMIR RANA  2.65            2    male      67074\n3    7467074010     KARAN THAPA MAGAR  3.70            2    male      67074\n4    7467074003          BANDANA RANA  2.85            2  female      67074\n..          ...                   ...   ...          ...     ...        ...\n995  7467098022  DHARMA BAHADUR THARU  1.60            1    male      67098\n996  7467098031     KIRAN KUMAR THARU  2.45            1    male      67098\n997  7467098045      NIRDIKA BHANDARI  2.20            1  female      67098\n998  7467098109           SHIBA THARU  1.60            1  female      67098\n999  7467098062         PARBATI THARU  1.40            1  female      67098\n\n[1000 rows x 6 columns]",
      "text/html": "<div>\n<style scoped>\n    .dataframe tbody tr th:only-of-type {\n        vertical-align: middle;\n    }\n\n    .dataframe tbody tr th {\n        vertical-align: top;\n    }\n\n    .dataframe thead th {\n        text-align: right;\n    }\n</style>\n<table border=\"1\" class=\"dataframe\">\n  <thead>\n    <tr style=\"text-align: right;\">\n      <th></th>\n      <th>reg_no</th>\n      <th>name</th>\n      <th>gpa</th>\n      <th>school_type</th>\n      <th>sex</th>\n      <th>school_id</th>\n    </tr>\n  </thead>\n  <tbody>\n    <tr>\n      <th>0</th>\n      <td>7467074013</td>\n      <td>NISHA THARU</td>\n      <td>2.65</td>\n      <td>2</td>\n      <td>female</td>\n      <td>67074</td>\n    </tr>\n    <tr>\n      <th>1</th>\n      <td>7467074023</td>\n      <td>SUJAN THARU</td>\n      <td>3.60</td>\n      <td>2</td>\n      <td>male</td>\n      <td>67074</td>\n    </tr>\n    <tr>\n      <th>2</th>\n      <td>7467074001</td>\n      <td>AMIR RANA</td>\n      <td>2.65</td>\n      <td>2</td>\n      <td>male</td>\n      <td>67074</td>\n    </tr>\n    <tr>\n      <th>3</th>\n      <td>7467074010</td>\n      <td>KARAN THAPA MAGAR</td>\n      <td>3.70</td>\n      <td>2</td>\n      <td>male</td>\n      <td>67074</td>\n    </tr>\n    <tr>\n      <th>4</th>\n      <td>7467074003</td>\n      <td>BANDANA RANA</td>\n      <td>2.85</td>\n      <td>2</td>\n      <td>female</td>\n      <td>67074</td>\n    </tr>\n    <tr>\n      <th>...</th>\n      <td>...</td>\n      <td>...</td>\n      <td>...</td>\n      <td>...</td>\n      <td>...</td>\n      <td>...</td>\n    </tr>\n    <tr>\n      <th>995</th>\n      <td>7467098022</td>\n      <td>DHARMA BAHADUR THARU</td>\n      <td>1.60</td>\n      <td>1</td>\n      <td>male</td>\n      <td>67098</td>\n    </tr>\n    <tr>\n      <th>996</th>\n      <td>7467098031</td>\n      <td>KIRAN KUMAR THARU</td>\n      <td>2.45</td>\n      <td>1</td>\n      <td>male</td>\n      <td>67098</td>\n    </tr>\n    <tr>\n      <th>997</th>\n      <td>7467098045</td>\n      <td>NIRDIKA BHANDARI</td>\n      <td>2.20</td>\n      <td>1</td>\n      <td>female</td>\n      <td>67098</td>\n    </tr>\n    <tr>\n      <th>998</th>\n      <td>7467098109</td>\n      <td>SHIBA THARU</td>\n      <td>1.60</td>\n      <td>1</td>\n      <td>female</td>\n      <td>67098</td>\n    </tr>\n    <tr>\n      <th>999</th>\n      <td>7467098062</td>\n      <td>PARBATI THARU</td>\n      <td>1.40</td>\n      <td>1</td>\n      <td>female</td>\n      <td>67098</td>\n    </tr>\n  </tbody>\n</table>\n<p>1000 rows × 6 columns</p>\n</div>"
     },
     "execution_count": 36,
     "metadata": {},
     "output_type": "execute_result"
    }
   ],
   "source": [
    "df"
   ],
   "metadata": {
    "collapsed": false,
    "pycharm": {
     "name": "#%%\n"
    }
   }
  },
  {
   "cell_type": "code",
   "execution_count": 43,
   "outputs": [
    {
     "data": {
      "text/plain": "<matplotlib.axes._subplots.AxesSubplot at 0x12ad5c1f0>"
     },
     "execution_count": 43,
     "metadata": {},
     "output_type": "execute_result"
    },
    {
     "data": {
      "text/plain": "<Figure size 432x288 with 1 Axes>",
      "image/png": "[encoded data removed]"
     },
     "metadata": {
      "needs_background": "light"
     },
     "output_type": "display_data"
    }
   ],
   "source": [
    "df[['gpa']].plot(kind='hist', bins=[0,0.5,1,1.5,2,2.5,3,3.5,4], rwidth=0.8)"
   ],
   "metadata": {
    "collapsed": false,
    "pycharm": {
     "name": "#%%\n"
    }
   }
  },
  {
   "cell_type": "code",
   "execution_count": 66,
   "outputs": [
    {
     "data": {
      "text/plain": "<matplotlib.axes._subplots.AxesSubplot at 0x12a6c9f40>"
     },
     "execution_count": 66,
     "metadata": {},
     "output_type": "execute_result"
    },
    {
     "data": {
      "text/plain": "<Figure size 432x288 with 1 Axes>",
      "image/png": "[encoded data removed]"
     },
     "metadata": {},
     "output_type": "display_data"
    }
   ],
   "source": [
    "df.dropna()\n",
    "\n",
    "df.groupby('school_type').size().plot(kind='pie', autopct='%1.1f%%', labels=['Govt', 'Private', 'Community'], title='Student Count By School type', legend=True, )"
   ],
   "metadata": {
    "collapsed": false,
    "pycharm": {
     "name": "#%%\n"
    }
   }
  },
  {
   "cell_type": "code",
   "execution_count": 63,
   "outputs": [
    {
     "data": {
      "text/plain": "school_type\n1    681\n2    230\n3     89\ndtype: int64"
     },
     "execution_count": 63,
     "metadata": {},
     "output_type": "execute_result"
    }
   ],
   "source": [
    "df.groupby('school_type').size()"
   ],
   "metadata": {
    "collapsed": false,
    "pycharm": {
     "name": "#%%\n"
    }
   }
  },
  {
   "cell_type": "code",
   "execution_count": 76,
   "outputs": [
    {
     "data": {
      "text/plain": "<matplotlib.axes._subplots.AxesSubplot at 0x1292a9070>"
     },
     "execution_count": 76,
     "metadata": {},
     "output_type": "execute_result"
    },
    {
     "data": {
      "text/plain": "<Figure size 432x288 with 1 Axes>",
      "image/png": "[encoded data removed]"
     },
     "metadata": {
      "needs_background": "light"
     },
     "output_type": "display_data"
    }
   ],
   "source": [
    "\n",
    "df.groupby('school_type').size().plot(kind='bar', title='Student Count By School type', tick_label=['Govt', 'Private', 'Community'])"
   ],
   "metadata": {
    "collapsed": false,
    "pycharm": {
     "name": "#%%\n"
    }
   }
  },
  {
   "cell_type": "code",
   "execution_count": 81,
   "outputs": [
    {
     "data": {
      "text/plain": "<matplotlib.axes._subplots.AxesSubplot at 0x129298880>"
     },
     "execution_count": 81,
     "metadata": {},
     "output_type": "execute_result"
    },
    {
     "data": {
      "text/plain": "<Figure size 432x288 with 1 Axes>",
      "image/png": "[encoded data removed]"
     },
     "metadata": {
      "needs_background": "light"
     },
     "output_type": "display_data"
    }
   ],
   "source": [
    "df.groupby(['school_type', 'sex']).size().unstack().plot(kind='bar', stacked=True)"
   ],
   "metadata": {
    "collapsed": false,
    "pycharm": {
     "name": "#%%\n"
    }
   }
  },
  {
   "cell_type": "code",
   "execution_count": null,
   "outputs": [],
   "source": [],
   "metadata": {
    "collapsed": false,
    "pycharm": {
     "name": "#%%\n"
    }
   }
  }
 ],
 "metadata": {
  "kernelspec": {
   "display_name": "Python 3",
   "language": "python",
   "name": "python3"
  },
  "language_info": {
   "codemirror_mode": {
    "name": "ipython",
    "version": 2
   },
   "file_extension": ".py",
   "mimetype": "text/x-python",
   "name": "python",
   "nbconvert_exporter": "python",
   "pygments_lexer": "ipython2",
   "version": "2.7.6"
  }
 },
 "nbformat": 4,
 "nbformat_minor": 0
}